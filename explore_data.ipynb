{
 "cells": [
  {
   "cell_type": "code",
   "execution_count": 2,
   "metadata": {},
   "outputs": [],
   "source": [
    "import requests\n",
    "import numpy as np\n",
    "import pandas as pd\n",
    "import matplotlib.pyplot as plt\n",
    "import seaborn as sb"
   ]
  },
  {
   "cell_type": "markdown",
   "metadata": {},
   "source": [
    "## Query data"
   ]
  },
  {
   "cell_type": "code",
   "execution_count": 3,
   "metadata": {},
   "outputs": [],
   "source": [
    "def query_graph(uri: str, query: str) -> dict:\n",
    "    request = requests.post(uri, json={'query': query})\n",
    "    if request.status_code >= 200 and request.status_code <= 299:\n",
    "        return request.json()\n",
    "    else:\n",
    "        raise Exception(f\"Failed HTTP Post request with status: {request.status_code}\")"
   ]
  },
  {
   "cell_type": "markdown",
   "metadata": {},
   "source": [
    "### Repuation Holders\n",
    "First query all reputation holders and filter by organization to get dOrg members"
   ]
  },
  {
   "cell_type": "code",
   "execution_count": 4,
   "metadata": {},
   "outputs": [],
   "source": [
    "def queryAllRepHolders() -> list:\n",
    "    result = []\n",
    "    url = 'https://api.thegraph.com/subgraphs/name/daostack/alchemy'\n",
    "    skip = 0\n",
    "    query = '{{ \\n \\\n",
    "      reputationHolders(first: 1000, skip:{skip}) {{ \\n \\\n",
    "        address \\n \\\n",
    "        balance \\n \\\n",
    "        dao {{ \\n \\\n",
    "          name \\n \\\n",
    "        }} \\n \\\n",
    "        createdAt \\n \\\n",
    "      }} \\n \\\n",
    "    }}'\n",
    "    response = query_graph(url, query.format(skip=skip))\n",
    "    while len(response['data']['reputationHolders']) > 0:\n",
    "        result += response['data']['reputationHolders']\n",
    "        skip += 1000\n",
    "        response = query_graph(url, query.format(skip=skip))\n",
    "    return result"
   ]
  },
  {
   "cell_type": "code",
   "execution_count": 5,
   "metadata": {},
   "outputs": [],
   "source": [
    "response_reputation_holders = queryAllRepHolders()"
   ]
  },
  {
   "cell_type": "code",
   "execution_count": 13,
   "metadata": {},
   "outputs": [],
   "source": [
    "def clean_rep_holders_data(df, dao_name):\n",
    "    # filter by dao\n",
    "    undict = lambda x: x['name']\n",
    "    df['dao'] = df['dao'].apply(undict)\n",
    "    df = df[df.dao == dao_name].reset_index()\n",
    "    df = df.drop(columns=['index'])\n",
    "    \n",
    "    # set data types\n",
    "    df['address'] = df['address'].astype('string')\n",
    "    df['balance'] = df['balance'].astype('string')\n",
    "    df['createdAt'] = df['createdAt'].apply(int).astype('datetime64[s]')\n",
    "    df['dao'] = df['dao'].astype('string')\n",
    "    \n",
    "    # handle uint64 overflow -> units now in quadrillions\n",
    "    # first count and truncate final 15 (or fewer) digits\n",
    "    units_fn = lambda x: min(len(x), 15)\n",
    "    df['units'] = df['balance'].apply(units_fn)\n",
    "    truncate = lambda x: x[0:len(x)-15] if len(x) > 15 else len(x)\n",
    "    df['balance_quadrillions'] = df['balance'].apply(truncate).astype('string').astype('float64')\n",
    "    # log and recombine\n",
    "    df['log10_balance'] = np.log10(df.balance_quadrillions) + df.units\n",
    "    \n",
    "    return df"
   ]
  },
  {
   "cell_type": "code",
   "execution_count": 14,
   "metadata": {},
   "outputs": [],
   "source": [
    "reputation_holders = pd.DataFrame(response_reputation_holders)\n",
    "reputation_holders = clean_rep_holders_data(reputation_holders, 'dOrg')"
   ]
  },
  {
   "cell_type": "code",
   "execution_count": 15,
   "metadata": {},
   "outputs": [
    {
     "data": {
      "text/html": [
       "<div>\n",
       "<style scoped>\n",
       "    .dataframe tbody tr th:only-of-type {\n",
       "        vertical-align: middle;\n",
       "    }\n",
       "\n",
       "    .dataframe tbody tr th {\n",
       "        vertical-align: top;\n",
       "    }\n",
       "\n",
       "    .dataframe thead th {\n",
       "        text-align: right;\n",
       "    }\n",
       "</style>\n",
       "<table border=\"1\" class=\"dataframe\">\n",
       "  <thead>\n",
       "    <tr style=\"text-align: right;\">\n",
       "      <th></th>\n",
       "      <th>address</th>\n",
       "      <th>balance</th>\n",
       "      <th>createdAt</th>\n",
       "      <th>dao</th>\n",
       "      <th>units</th>\n",
       "      <th>balance_quadrillions</th>\n",
       "      <th>log10_balance</th>\n",
       "    </tr>\n",
       "  </thead>\n",
       "  <tbody>\n",
       "    <tr>\n",
       "      <th>0</th>\n",
       "      <td>0x5db06acd673531218b10430ba6de9b69913ad545</td>\n",
       "      <td>80840000000000000000</td>\n",
       "      <td>2020-02-12 00:33:04</td>\n",
       "      <td>dOrg</td>\n",
       "      <td>15</td>\n",
       "      <td>80840.0</td>\n",
       "      <td>19.907626</td>\n",
       "    </tr>\n",
       "    <tr>\n",
       "      <th>1</th>\n",
       "      <td>0x3e9976d5ba86a78d6e5c25bc2f309049676c0798</td>\n",
       "      <td>24633000000000000000</td>\n",
       "      <td>2019-06-11 17:24:35</td>\n",
       "      <td>dOrg</td>\n",
       "      <td>15</td>\n",
       "      <td>24633.0</td>\n",
       "      <td>19.391517</td>\n",
       "    </tr>\n",
       "    <tr>\n",
       "      <th>2</th>\n",
       "      <td>0xc6ee47385c205139612a4f847a067bfcdc59df54</td>\n",
       "      <td>113114999999999998437</td>\n",
       "      <td>2019-11-09 14:15:36</td>\n",
       "      <td>dOrg</td>\n",
       "      <td>15</td>\n",
       "      <td>113114.0</td>\n",
       "      <td>20.053516</td>\n",
       "    </tr>\n",
       "    <tr>\n",
       "      <th>3</th>\n",
       "      <td>0x0a0b5fe27b2f4be657ee91c48af4ceeae097706e</td>\n",
       "      <td>48340000000000000746</td>\n",
       "      <td>2019-12-02 15:46:59</td>\n",
       "      <td>dOrg</td>\n",
       "      <td>15</td>\n",
       "      <td>48340.0</td>\n",
       "      <td>19.684307</td>\n",
       "    </tr>\n",
       "    <tr>\n",
       "      <th>4</th>\n",
       "      <td>0x1338c277e03fbe9d6b1b3b655f0e567c0dcaac4a</td>\n",
       "      <td>1428000000000000000000</td>\n",
       "      <td>2020-02-12 20:38:05</td>\n",
       "      <td>dOrg</td>\n",
       "      <td>15</td>\n",
       "      <td>1428000.0</td>\n",
       "      <td>21.154728</td>\n",
       "    </tr>\n",
       "    <tr>\n",
       "      <th>...</th>\n",
       "      <td>...</td>\n",
       "      <td>...</td>\n",
       "      <td>...</td>\n",
       "      <td>...</td>\n",
       "      <td>...</td>\n",
       "      <td>...</td>\n",
       "      <td>...</td>\n",
       "    </tr>\n",
       "    <tr>\n",
       "      <th>86</th>\n",
       "      <td>0x3e9976d5ba86a78d6e5c25bc2f309049676c0798</td>\n",
       "      <td>4926000000000000000000</td>\n",
       "      <td>2020-02-12 20:38:05</td>\n",
       "      <td>dOrg</td>\n",
       "      <td>15</td>\n",
       "      <td>4926000.0</td>\n",
       "      <td>21.692494</td>\n",
       "    </tr>\n",
       "    <tr>\n",
       "      <th>87</th>\n",
       "      <td>0x1f134294dee0055da2a9914f73d2a7a59d374ac0</td>\n",
       "      <td>2200000000000000000000</td>\n",
       "      <td>2020-02-12 20:38:05</td>\n",
       "      <td>dOrg</td>\n",
       "      <td>15</td>\n",
       "      <td>2200000.0</td>\n",
       "      <td>21.342423</td>\n",
       "    </tr>\n",
       "    <tr>\n",
       "      <th>88</th>\n",
       "      <td>0x5b52ba08252f17a1560b8f6bdf025518d18b6a62</td>\n",
       "      <td>4050000000000000000000</td>\n",
       "      <td>2020-03-06 05:32:31</td>\n",
       "      <td>dOrg</td>\n",
       "      <td>15</td>\n",
       "      <td>4050000.0</td>\n",
       "      <td>21.607455</td>\n",
       "    </tr>\n",
       "    <tr>\n",
       "      <th>89</th>\n",
       "      <td>0xbeeb66591fc66210672880da41a481bf9fcfc72a</td>\n",
       "      <td>18372000000000000000000</td>\n",
       "      <td>2020-02-12 20:38:05</td>\n",
       "      <td>dOrg</td>\n",
       "      <td>15</td>\n",
       "      <td>18372000.0</td>\n",
       "      <td>22.264156</td>\n",
       "    </tr>\n",
       "    <tr>\n",
       "      <th>90</th>\n",
       "      <td>0x152ad2e12e102abf64280c5e3d70257effb0ede0</td>\n",
       "      <td>100000000000000000000</td>\n",
       "      <td>2020-07-28 01:03:45</td>\n",
       "      <td>dOrg</td>\n",
       "      <td>15</td>\n",
       "      <td>100000.0</td>\n",
       "      <td>20.000000</td>\n",
       "    </tr>\n",
       "  </tbody>\n",
       "</table>\n",
       "<p>91 rows × 7 columns</p>\n",
       "</div>"
      ],
      "text/plain": [
       "                                       address                  balance  \\\n",
       "0   0x5db06acd673531218b10430ba6de9b69913ad545     80840000000000000000   \n",
       "1   0x3e9976d5ba86a78d6e5c25bc2f309049676c0798     24633000000000000000   \n",
       "2   0xc6ee47385c205139612a4f847a067bfcdc59df54    113114999999999998437   \n",
       "3   0x0a0b5fe27b2f4be657ee91c48af4ceeae097706e     48340000000000000746   \n",
       "4   0x1338c277e03fbe9d6b1b3b655f0e567c0dcaac4a   1428000000000000000000   \n",
       "..                                         ...                      ...   \n",
       "86  0x3e9976d5ba86a78d6e5c25bc2f309049676c0798   4926000000000000000000   \n",
       "87  0x1f134294dee0055da2a9914f73d2a7a59d374ac0   2200000000000000000000   \n",
       "88  0x5b52ba08252f17a1560b8f6bdf025518d18b6a62   4050000000000000000000   \n",
       "89  0xbeeb66591fc66210672880da41a481bf9fcfc72a  18372000000000000000000   \n",
       "90  0x152ad2e12e102abf64280c5e3d70257effb0ede0    100000000000000000000   \n",
       "\n",
       "             createdAt   dao  units  balance_quadrillions  log10_balance  \n",
       "0  2020-02-12 00:33:04  dOrg     15               80840.0      19.907626  \n",
       "1  2019-06-11 17:24:35  dOrg     15               24633.0      19.391517  \n",
       "2  2019-11-09 14:15:36  dOrg     15              113114.0      20.053516  \n",
       "3  2019-12-02 15:46:59  dOrg     15               48340.0      19.684307  \n",
       "4  2020-02-12 20:38:05  dOrg     15             1428000.0      21.154728  \n",
       "..                 ...   ...    ...                   ...            ...  \n",
       "86 2020-02-12 20:38:05  dOrg     15             4926000.0      21.692494  \n",
       "87 2020-02-12 20:38:05  dOrg     15             2200000.0      21.342423  \n",
       "88 2020-03-06 05:32:31  dOrg     15             4050000.0      21.607455  \n",
       "89 2020-02-12 20:38:05  dOrg     15            18372000.0      22.264156  \n",
       "90 2020-07-28 01:03:45  dOrg     15              100000.0      20.000000  \n",
       "\n",
       "[91 rows x 7 columns]"
      ]
     },
     "execution_count": 15,
     "metadata": {},
     "output_type": "execute_result"
    }
   ],
   "source": [
    "reputation_holders"
   ]
  },
  {
   "cell_type": "code",
   "execution_count": 16,
   "metadata": {},
   "outputs": [
    {
     "data": {
      "text/plain": [
       "address                         string\n",
       "balance                         string\n",
       "createdAt               datetime64[ns]\n",
       "dao                             string\n",
       "units                            int64\n",
       "balance_quadrillions           float64\n",
       "log10_balance                  float64\n",
       "dtype: object"
      ]
     },
     "execution_count": 16,
     "metadata": {},
     "output_type": "execute_result"
    }
   ],
   "source": [
    "reputation_holders.dtypes"
   ]
  },
  {
   "cell_type": "markdown",
   "metadata": {},
   "source": [
    "### Repuation Transactions"
   ]
  },
  {
   "cell_type": "code",
   "execution_count": 73,
   "metadata": {},
   "outputs": [],
   "source": [
    "def queryBlockRepTransactions(table: str, block=10718611) -> list:\n",
    "    result = []\n",
    "    url = 'https://api.thegraph.com/subgraphs/name/daostack/alchemy'\n",
    "    skip = 0\n",
    "    query = '{{ \\n \\\n",
    "        {table} (first: 1000, block: {{ number: {block} }}, skip: {skip}) {{ \\n \\\n",
    "        id \\n \\\n",
    "        txHash \\n \\\n",
    "        contract \\n \\\n",
    "        address \\n \\\n",
    "        amount \\n \\\n",
    "      }} \\n \\\n",
    "    }}'\n",
    "    response = query_graph(url, query.format(table=table, block=block, skip=skip))\n",
    "    while len(response['data'][table]) > 0:\n",
    "        result += response['data'][table]\n",
    "        skip += 1000\n",
    "        response = query_graph(url, query.format(table=table, block=block, skip=skip))\n",
    "    return result"
   ]
  },
  {
   "cell_type": "code",
   "execution_count": 81,
   "metadata": {},
   "outputs": [],
   "source": [
    "# This queries rep transactions from every block until none exist. It would take days to run. \n",
    "# Is there a more practical way to get historical reputation flows?\n",
    "def queryAllRepTransactions(table: str, newest_block: int, address_whitelist=None):\n",
    "    result = pd.DataFrame()\n",
    "    block = newest_block\n",
    "    response = queryBlockRepTransactions(table, block)\n",
    "    while len(response) > 0 and block > 10718611-10000:\n",
    "        # add to result\n",
    "        response_df = pd.DataFrame(response)\n",
    "        if address_whitelist is not None:\n",
    "            response_df = [response_df.address.isin(address_whitelist)]\n",
    "        response_df['block'] = block\n",
    "        result = result.append(response_df)\n",
    "        result = result.drop_duplicates(subset=['id', 'txHash', 'contract', 'address', 'amount'], keep='last')\n",
    "        # query next block\n",
    "        block -= 1\n",
    "        response = queryBlockRepTransactions(table, block)\n",
    "    result.reset_index(inplace=True)\n",
    "    return result"
   ]
  },
  {
   "cell_type": "code",
   "execution_count": 83,
   "metadata": {},
   "outputs": [],
   "source": [
    "#response_reputation_mints = queryBlockRepTransactions('reputationMints', 10718611)"
   ]
  },
  {
   "cell_type": "code",
   "execution_count": null,
   "metadata": {},
   "outputs": [],
   "source": [
    "#reputation_mints = pd.DataFrame(response_reputation_mints)\n",
    "#reputation_mints"
   ]
  },
  {
   "cell_type": "markdown",
   "metadata": {},
   "source": [
    "## Prototype Static Visualizations"
   ]
  },
  {
   "cell_type": "code",
   "execution_count": 13,
   "metadata": {},
   "outputs": [],
   "source": [
    "# O(N) implementation of gini coefficient found at: \n",
    "# https://stackoverflow.com/questions/48999542/more-efficient-weighted-gini-coefficient-in-python/48999797#48999797\n",
    "def gini(x, w=None):\n",
    "    # Array indexing requires reset indexes.\n",
    "    x = pd.Series(x).reset_index(drop=True)\n",
    "    if w is None:\n",
    "        w = np.ones_like(x)\n",
    "    w = pd.Series(w).reset_index(drop=True)\n",
    "    n = x.size\n",
    "    wxsum = sum(w * x)\n",
    "    wsum = sum(w)\n",
    "    sxw = np.argsort(x)\n",
    "    sx = x[sxw] * w[sxw]\n",
    "    sw = w[sxw]\n",
    "    pxi = np.cumsum(sx) / wxsum\n",
    "    pci = np.cumsum(sw) / wsum\n",
    "    g = 0.0\n",
    "    for i in np.arange(1, n):\n",
    "        g = g + pxi.iloc[i] * pci.iloc[i - 1] - pci.iloc[i] * pxi.iloc[i - 1]\n",
    "    return g"
   ]
  },
  {
   "cell_type": "code",
   "execution_count": 14,
   "metadata": {},
   "outputs": [],
   "source": [
    "# O(N^2)\n",
    "# https://stackoverflow.com/questions/39512260/calculating-gini-coefficient-in-python-numpy\n",
    "def gini(x):\n",
    "    # Mean absolute difference\n",
    "    mad = np.abs(np.subtract.outer(x, x)).mean()\n",
    "    # Relative mean absolute difference\n",
    "    rmad = mad/np.mean(x)\n",
    "    # Gini coefficient\n",
    "    g = 0.5 * rmad\n",
    "    return g"
   ]
  },
  {
   "cell_type": "code",
   "execution_count": 111,
   "metadata": {},
   "outputs": [],
   "source": [
    "# visualize reputation distribution\n",
    "# assumes array-like inputs are sorted in ascending order\n",
    "def plot_distributions(balance_abs, balance_log):\n",
    "    \n",
    "    # prep pie chart\n",
    "    n_slices = 5\n",
    "    topn = balance_abs[len(balance_abs)-n_slices :]\n",
    "    remainder = balance_abs[0: len(balance_abs)-n_slices].sum()\n",
    "    toPie = list(topn)\n",
    "    toPie.append(remainder)\n",
    "    \n",
    "    # prep lorenz/gini\n",
    "    gini_coef = gini(balance_abs)\n",
    "    y = balance_abs.cumsum() / balance_abs.sum()\n",
    "    x = np.arange(balance_abs.size) / (balance_abs.size - 1)\n",
    "    \n",
    "    fig = plt.figure(figsize=(10,10))\n",
    "\n",
    "    # reputation in quadrillions\n",
    "    plt.subplot2grid((2, 2), (0,0), 1, 1)\n",
    "    sb.distplot(balance_abs, kde=False, hist_kws={'histtype': 'step', 'color': 'black'})\n",
    "    plt.title('Reputation histogram')\n",
    "    plt.xlabel('Reputation (units of 1e23)')\n",
    "    plt.ylabel('p(x)')\n",
    "    \n",
    "    # pie chart of rep shares\n",
    "    plt.subplot(2, 2, 2)\n",
    "    plt.pie(toPie)\n",
    "    plt.title('Reputation shares')\n",
    "\n",
    "    # log10 of reputation\n",
    "    plt.subplot(2, 2, 3)\n",
    "    sb.distplot(balance_log, hist_kws={'histtype': 'step', 'color': 'black'})\n",
    "    plt.title('Reputation probability distribution (log scale)')\n",
    "    plt.xlabel('log10(reputation)')\n",
    "    plt.ylabel('p(x)')\n",
    "    \n",
    "    # Lorenz curve\n",
    "    plt.subplot(2, 2, 4)\n",
    "    plt.plot(x, y, label='observed')\n",
    "    plt.plot(x, x, '--', label='equality')\n",
    "    plt.xlabel('fraction of members')\n",
    "    plt.ylabel('fraction of total reputation')\n",
    "    plt.title(f'Lorenz Curve (Gini: {gini_coef:.3f})')\n",
    "    plt.legend()\n",
    "\n",
    "    plt.subplots_adjust(hspace=0.3, wspace=0.3)\n",
    "    plt.show()"
   ]
  },
  {
   "cell_type": "code",
   "execution_count": 112,
   "metadata": {},
   "outputs": [
    {
     "data": {
      "image/png": "[encoded data removed]",
      "text/plain": [
       "<Figure size 720x720 with 4 Axes>"
      ]
     },
     "metadata": {
      "needs_background": "light"
     },
     "output_type": "display_data"
    }
   ],
   "source": [
    "reputation_holders.sort_values('balance_quadrillions', ascending=True, inplace=True)\n",
    "plot_distributions(reputation_holders.balance_quadrillions.values, reputation_holders.log10_balance.values)"
   ]
  },
  {
   "cell_type": "markdown",
   "metadata": {},
   "source": [
    "## Prototype Simulation"
   ]
  },
  {
   "cell_type": "code",
   "execution_count": 66,
   "metadata": {},
   "outputs": [],
   "source": [
    "def project_rep(fte_rate=7500, rep_rate=200, work_level=1.0, months=0):\n",
    "    return months * (fte_rate * work_level) / rep_rate"
   ]
  },
  {
   "cell_type": "code",
   "execution_count": 67,
   "metadata": {},
   "outputs": [
    {
     "data": {
      "text/plain": [
       "187.5"
      ]
     },
     "execution_count": 67,
     "metadata": {},
     "output_type": "execute_result"
    }
   ],
   "source": [
    "fte_rate = 7500\n",
    "rep_rate = 200\n",
    "work_level = 1.0\n",
    "months = 5\n",
    "project_rep(fte_rate, rep_rate, work_level, months)"
   ]
  },
  {
   "cell_type": "code",
   "execution_count": null,
   "metadata": {},
   "outputs": [],
   "source": []
  },
  {
   "cell_type": "code",
   "execution_count": null,
   "metadata": {},
   "outputs": [],
   "source": [
    "reputation_holders.sort_values('balance_quadrillions', ascending=True, inplace=True)\n",
    "plot_distributions(reputation_holders.balance_quadrillions.values, reputation_holders.log10_balance.values)"
   ]
  },
  {
   "cell_type": "code",
   "execution_count": null,
   "metadata": {},
   "outputs": [],
   "source": []
  },
  {
   "cell_type": "code",
   "execution_count": null,
   "metadata": {},
   "outputs": [],
   "source": []
  }
 ],
 "metadata": {
  "kernelspec": {
   "display_name": "Python 3",
   "language": "python",
   "name": "python3"
  },
  "language_info": {
   "codemirror_mode": {
    "name": "ipython",
    "version": 3
   },
   "file_extension": ".py",
   "mimetype": "text/x-python",
   "name": "python",
   "nbconvert_exporter": "python",
   "pygments_lexer": "ipython3",
   "version": "3.7.4"
  }
 },
 "nbformat": 4,
 "nbformat_minor": 4
}
